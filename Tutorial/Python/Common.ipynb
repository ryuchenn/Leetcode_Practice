{
 "cells": [
  {
   "cell_type": "code",
   "execution_count": 39,
   "id": "839d9911",
   "metadata": {},
   "outputs": [],
   "source": [
    "from collections import deque\n",
    "import heapq\n",
    "import copy"
   ]
  },
  {
   "cell_type": "markdown",
   "id": "47c0e071",
   "metadata": {},
   "source": [
    "# String"
   ]
  },
  {
   "cell_type": "code",
   "execution_count": null,
   "id": "bdbb9425",
   "metadata": {},
   "outputs": [
    {
     "name": "stdout",
     "output_type": "stream",
     "text": [
      "leet\n",
      "edocteel\n",
      "leetcodepython\n"
     ]
    }
   ],
   "source": [
    "s = \"leetcode\"\n",
    "\n",
    "# Slice\n",
    "print(s[0:4])  # 'leet'\n",
    "\n",
    "# Reverse\n",
    "print(s[::-1])  # 'edocteel'\n",
    "\n",
    "# Merge\n",
    "s2 = \"python\"\n",
    "print(s + s2)  # 'leetcodepython'\n"
   ]
  },
  {
   "cell_type": "markdown",
   "id": "0fa45971",
   "metadata": {},
   "source": [
    "# List"
   ]
  },
  {
   "cell_type": "markdown",
   "id": "b1150a48",
   "metadata": {},
   "source": [
    "- Edit"
   ]
  },
  {
   "cell_type": "code",
   "execution_count": null,
   "id": "3b494181",
   "metadata": {},
   "outputs": [
    {
     "name": "stdout",
     "output_type": "stream",
     "text": [
      "[1, 2, 3, 4]\n",
      "[1, 2, 4]\n",
      "[10, 20, 40]\n",
      "[1, 2]\n",
      "[1, 10, 2]\n",
      "[1, 2, 10]\n",
      "[10, 2, 1]\n"
     ]
    }
   ],
   "source": [
    "arr = [1, 2, 3]\n",
    "\n",
    "# Add Element\n",
    "arr.append(4)\n",
    "print(arr)\n",
    "\n",
    "# Delete Specified\n",
    "del arr[2]\n",
    "print(arr)\n",
    "\n",
    "# Delete Last One\n",
    "arr.pop()\n",
    "print(arr)\n",
    "\n",
    "# Delete Specified\n",
    "arr2 = [10, 20, 30, 40]\n",
    "arr2.pop(2) # return 30\n",
    "print(arr2)\n",
    "\n",
    "# Insert\n",
    "arr.insert(1, 10)  # [1,10,2,3]\n",
    "print(arr)\n",
    "\n",
    "# Sort\n",
    "arr.sort()\n",
    "print(arr)\n",
    "\n",
    "# Reverse Sort\n",
    "arr.reverse()\n",
    "print(arr)\n"
   ]
  },
  {
   "cell_type": "markdown",
   "id": "3d530f8d",
   "metadata": {},
   "source": [
    "- Sorted"
   ]
  },
  {
   "cell_type": "code",
   "execution_count": 45,
   "id": "75d003af",
   "metadata": {},
   "outputs": [
    {
     "name": "stdout",
     "output_type": "stream",
     "text": [
      "[2, 5, 9]\n",
      "16\n",
      "2\n",
      "9\n"
     ]
    }
   ],
   "source": [
    "nums = [5, 2, 9]\n",
    "print(sorted(nums))  # [2, 5, 9]\n",
    "print(sum(nums))     # 16\n",
    "print(min(nums))     # 2\n",
    "print(max(nums))     # 9"
   ]
  },
  {
   "cell_type": "markdown",
   "id": "2d882740",
   "metadata": {},
   "source": [
    "- zip, enumerate"
   ]
  },
  {
   "cell_type": "code",
   "execution_count": 47,
   "id": "3ad4ded6",
   "metadata": {},
   "outputs": [
    {
     "name": "stdout",
     "output_type": "stream",
     "text": [
      "Alice 90\n",
      "Bob 80\n",
      "0 a\n",
      "1 b\n",
      "2 c\n",
      "0 Alice\n",
      "1 Bob\n"
     ]
    }
   ],
   "source": [
    "names = [\"Alice\", \"Bob\"]\n",
    "scores = [90, 80]\n",
    "for name, score in zip(names, scores):\n",
    "    print(name, score)\n",
    "\n",
    "# enumerate\n",
    "for index, value in enumerate([\"a\", \"b\", \"c\"]):\n",
    "    print(index, value)\n",
    "\n",
    "for index, value in enumerate(names):\n",
    "    print(index, value)\n"
   ]
  },
  {
   "cell_type": "markdown",
   "id": "b4e1a882",
   "metadata": {},
   "source": [
    "- List Comprehension"
   ]
  },
  {
   "cell_type": "code",
   "execution_count": 48,
   "id": "8ebae9f1",
   "metadata": {},
   "outputs": [],
   "source": [
    "squares = [x * x for x in range(5)]  # [0, 1, 4, 9, 16]\n",
    "evens = [x for x in range(10) if x % 2 == 0]  # [0,2,4,6,8]"
   ]
  },
  {
   "cell_type": "markdown",
   "id": "516344c3",
   "metadata": {},
   "source": [
    "- Map、Filter、Lambda"
   ]
  },
  {
   "cell_type": "code",
   "execution_count": 49,
   "id": "373f551e",
   "metadata": {},
   "outputs": [],
   "source": [
    "nums = [1, 2, 3, 4]\n",
    "\n",
    "# map\n",
    "doubled = list(map(lambda x: x * 2, nums))  # [2, 4, 6, 8]\n",
    "\n",
    "# filter\n",
    "evens = list(filter(lambda x: x % 2 == 0, nums))  # [2, 4]\n"
   ]
  },
  {
   "cell_type": "markdown",
   "id": "c467b0d1",
   "metadata": {},
   "source": [
    "- Copy"
   ]
  },
  {
   "cell_type": "code",
   "execution_count": 44,
   "id": "eb2ae8b5",
   "metadata": {},
   "outputs": [
    {
     "name": "stdout",
     "output_type": "stream",
     "text": [
      "[[99, 2], [3, 4]]\n",
      "[[99, 2], [3, 4]]\n",
      "[[1, 2], [3, 4]]\n"
     ]
    }
   ],
   "source": [
    "arr = [[1, 2], [3, 4]]\n",
    "\n",
    "copy1 = arr[:]\n",
    "copy2 = arr.copy()\n",
    "copy3 = copy.deepcopy(arr)\n",
    "\n",
    "arr[0][0] = 99\n",
    "\n",
    "print(copy1)  # [[99, 2], [3, 4]] \n",
    "print(copy2)  # [[99, 2], [3, 4]]\n",
    "print(copy3)  # [[1, 2], [3, 4]] \n"
   ]
  },
  {
   "cell_type": "markdown",
   "id": "ab9487ba",
   "metadata": {},
   "source": [
    "- Recursion"
   ]
  },
  {
   "cell_type": "code",
   "execution_count": 51,
   "id": "e6fb217c",
   "metadata": {},
   "outputs": [
    {
     "name": "stdout",
     "output_type": "stream",
     "text": [
      "120\n"
     ]
    }
   ],
   "source": [
    "def recu(n):\n",
    "    if n == 0:\n",
    "        return 1\n",
    "    return n * recu(n-1)\n",
    "\n",
    "print(recu(5))  # 120\n"
   ]
  },
  {
   "cell_type": "markdown",
   "id": "3c2c658c",
   "metadata": {},
   "source": [
    "# Set"
   ]
  },
  {
   "cell_type": "code",
   "execution_count": null,
   "id": "71d9204e",
   "metadata": {},
   "outputs": [
    {
     "name": "stdout",
     "output_type": "stream",
     "text": [
      "{1, 2, 3, 4}\n",
      "{1, 3, 4}\n",
      "{2, 3}\n",
      "{1, 2, 3, 4}\n"
     ]
    }
   ],
   "source": [
    "s = {1, 2, 3}\n",
    "\n",
    "# Add\n",
    "s.add(4)\n",
    "print(s)\n",
    "\n",
    "# Delete\n",
    "s.remove(2)\n",
    "print(s)\n",
    "\n",
    "# And\n",
    "a = {1, 2, 3}\n",
    "b = {2, 3, 4}\n",
    "print(a & b)  # {2, 3}\n",
    "\n",
    "# Or\n",
    "print(a | b)  # {1, 2, 3, 4}\n"
   ]
  },
  {
   "cell_type": "markdown",
   "id": "8a9ee75e",
   "metadata": {},
   "source": [
    "# Dict"
   ]
  },
  {
   "cell_type": "code",
   "execution_count": 13,
   "id": "058c7bf7",
   "metadata": {},
   "outputs": [
    {
     "name": "stdout",
     "output_type": "stream",
     "text": [
      "1\n",
      "a 1\n",
      "b 2\n",
      "True\n"
     ]
    }
   ],
   "source": [
    "d = {\"a\": 1, \"b\": 2}\n",
    "\n",
    "# Find \"a\"\n",
    "print(d[\"a\"])\n",
    "\n",
    "# Get Key & Value\n",
    "for key, value in d.items():\n",
    "    print(key, value)\n",
    "\n",
    "# Check Key\n",
    "if \"a\" in d:\n",
    "    print(True)\n"
   ]
  },
  {
   "cell_type": "markdown",
   "id": "ada21c12",
   "metadata": {},
   "source": [
    "# Stack"
   ]
  },
  {
   "cell_type": "code",
   "execution_count": null,
   "id": "7841991f",
   "metadata": {},
   "outputs": [
    {
     "name": "stdout",
     "output_type": "stream",
     "text": [
      "[1]\n"
     ]
    },
    {
     "data": {
      "text/plain": [
       "2"
      ]
     },
     "execution_count": 15,
     "metadata": {},
     "output_type": "execute_result"
    }
   ],
   "source": [
    "stack = []\n",
    "stack.append(1)\n",
    "print(stack)\n",
    "\n",
    "stack.append(2)\n",
    "stack.pop()  # 2\n"
   ]
  },
  {
   "cell_type": "markdown",
   "id": "34b1caec",
   "metadata": {},
   "source": [
    "# Queue"
   ]
  },
  {
   "cell_type": "code",
   "execution_count": null,
   "id": "8647a567",
   "metadata": {},
   "outputs": [
    {
     "name": "stdout",
     "output_type": "stream",
     "text": [
      "deque([2])\n"
     ]
    }
   ],
   "source": [
    "queue = deque()\n",
    "\n",
    "queue.append(1) # 1\n",
    "queue.append(2) # 1, 2\n",
    "queue.popleft() # 2\n",
    "print(queue)\n"
   ]
  },
  {
   "cell_type": "markdown",
   "id": "0a517660",
   "metadata": {},
   "source": [
    "# Heap"
   ]
  },
  {
   "cell_type": "code",
   "execution_count": null,
   "id": "7e079ec2",
   "metadata": {},
   "outputs": [
    {
     "name": "stdout",
     "output_type": "stream",
     "text": [
      "[0, 2, 1]\n"
     ]
    },
    {
     "data": {
      "text/plain": [
       "0"
      ]
     },
     "execution_count": 38,
     "metadata": {},
     "output_type": "execute_result"
    }
   ],
   "source": [
    "heap = []\n",
    "heapq.heappush(heap, 2) # 2\n",
    "heapq.heappush(heap, 1) # 1,2\n",
    "heapq.heappush(heap, 7) # 1,2,7\n",
    "heapq.heappush(heap, 4) # 1,2,7,4\n",
    "\n",
    "# Delete the smallest element\n",
    "heapq.heappop(heap)  # 2,4,7"
   ]
  },
  {
   "cell_type": "markdown",
   "id": "0b5fd27d",
   "metadata": {},
   "source": [
    "# "
   ]
  }
 ],
 "metadata": {
  "kernelspec": {
   "display_name": "base",
   "language": "python",
   "name": "python3"
  },
  "language_info": {
   "codemirror_mode": {
    "name": "ipython",
    "version": 3
   },
   "file_extension": ".py",
   "mimetype": "text/x-python",
   "name": "python",
   "nbconvert_exporter": "python",
   "pygments_lexer": "ipython3",
   "version": "3.11.4"
  }
 },
 "nbformat": 4,
 "nbformat_minor": 5
}
